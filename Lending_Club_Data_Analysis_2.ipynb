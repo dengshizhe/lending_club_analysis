{
 "cells": [
  {
   "cell_type": "code",
   "execution_count": 1,
   "metadata": {},
   "outputs": [],
   "source": [
    "\n",
    "import numpy as np\n",
    "\n",
    "import pandas as pd\n",
    "pd.set_option('display.max_columns', 100)\n",
    "\n",
    "from matplotlib import pyplot as plt\n",
    "%matplotlib inline \n",
    "\n",
    "import seaborn as sns\n",
    "\n",
    "# Scikit-Learn for Modeling\n",
    "import sklearn\n",
    "\n",
    "# Pickle for saving model files\n",
    "import pickle\n",
    "\n",
    "# Import Logistic Regression\n",
    "from sklearn.linear_model import LogisticRegression\n",
    "\n",
    "# Import RandomForestClassifier and GradientBoostingClassifer\n",
    "from sklearn.ensemble import RandomForestClassifier, GradientBoostingClassifier\n",
    "\n",
    "# Naive Bayes (Gaussian) has been reported as performing well on this dataset\n",
    "from sklearn.naive_bayes import GaussianNB, BernoulliNB, MultinomialNB\n",
    "\n",
    "# Function for splitting training and test set\n",
    "from sklearn.model_selection import train_test_split \n",
    "\n",
    "# Function for creating model pipelines\n",
    "from sklearn.pipeline import make_pipeline\n",
    "\n",
    "# For standardization\n",
    "from sklearn.preprocessing import StandardScaler\n",
    "\n",
    "# Helper for cross-validation\n",
    "from sklearn.model_selection import GridSearchCV\n",
    "\n",
    "# Classification metrics (added later)\n",
    "from sklearn.metrics import roc_curve, auc\n",
    "\n",
    "# Min-Max scaler (for use with Gaussian Classifiers)\n",
    "from sklearn.preprocessing import MinMaxScaler\n",
    "\n",
    "# Box-Cox transformation\n",
    "from scipy.stats import boxcox\n",
    "\n",
    "# Used for custom transformers\n",
    "from sklearn.base import TransformerMixin\n",
    "\n",
    "# Import confusion_matrix\n",
    "from sklearn.metrics import confusion_matrix, classification_report\n",
    "\n",
    "import warnings\n",
    "warnings.filterwarnings(\"ignore\")\n"
   ]
  },
  {
   "cell_type": "code",
   "execution_count": 2,
   "metadata": {},
   "outputs": [],
   "source": [
    "class BoxCoxTransformer(TransformerMixin):\n",
    "    \"\"\"\n",
    "    Custom Box-Cox transformer using the TransformerMixin.\n",
    "    Credit to EliteDataScience for this class.\n",
    "    \"\"\"\n",
    "    \n",
    "    def __init__(self, lmbda=None):\n",
    "        # If lambda values were passed in during initialization, use those\n",
    "        self.lmbda = lmbda\n",
    "        \n",
    "    def transform(self, X, *_):   \n",
    "        # If given a 1-dimensional X, reshape it to have 2 dimensions\n",
    "        if len(X.shape) == 1:\n",
    "            X = X.values.reshape(-1,1)\n",
    "        \n",
    "        # Create empty output list\n",
    "        output = []\n",
    "        \n",
    "        # For each feature...\n",
    "        for i in range(X.shape[1]):\n",
    "            # Transform that feature's data using its corresponding lambda value\n",
    "            X_transformed = boxcox(X[:, i], self.lmbda[i])\n",
    "            \n",
    "            # Append to output list\n",
    "            output.append(X_transformed)\n",
    "        \n",
    "        # Make output list a Numpy array and transpose it\n",
    "        output = np.array(output).transpose()\n",
    "        \n",
    "        return output\n",
    "    \n",
    "    def fit(self, X, *_):\n",
    "        # If given a 1-dimensional X, reshape it to have 2 dimensions\n",
    "        if len(X.shape) == 1:\n",
    "            X = X.values.reshape(-1,1)\n",
    "\n",
    "        # Create empty lambda list\n",
    "        self.lmbda = []\n",
    "        \n",
    "        # For each feature...\n",
    "        for i in range(X.shape[1]):\n",
    "            # Find the best lambda for transforming that feature\n",
    "            X_transformed, lmbda = boxcox(X[:, i])\n",
    "            \n",
    "            # Append that lambda to the lambda list\n",
    "            self.lmbda.append(lmbda)\n",
    "            \n",
    "        return self"
   ]
  },
  {
   "cell_type": "markdown",
   "metadata": {},
   "source": [
    "This is a classification task. We are trying to predict which loans will default.\n",
    "Here we follow a standard ML workflow. We split our data into train and tet sets and will parametrize and test the performance of 4 classification algorithms. The 4 algorithms used will be :\n",
    "* Regularized L1 logistic regression  - penalize the absolute size of model coefficients.\n",
    "* Regularized L2 logistic regresion -  penalize the squared size of model coefficients.\n",
    "* Random Forest Classifier\n",
    "* Gradient Boosting Classifier\n",
    "\n",
    "The model will give us a probability of whether a loan will default or not."
   ]
  },
  {
   "cell_type": "code",
   "execution_count": 3,
   "metadata": {},
   "outputs": [],
   "source": [
    "# Load analytical base table \n",
    "df = pd.read_csv('lc_analytical_base_table.csv', low_memory=False)"
   ]
  },
  {
   "cell_type": "code",
   "execution_count": 4,
   "metadata": {},
   "outputs": [],
   "source": [
    "# Create separate object for target variable\n",
    "y = df[\"loan_status\"]\n",
    "\n",
    "# Create separate object for input features\n",
    "X = df.drop(\"loan_status\", axis=1)"
   ]
  },
  {
   "cell_type": "markdown",
   "metadata": {},
   "source": [
    "We will split the train/test set 80/20.  We also stratify to ensure the target feature is balanced in each subset of data."
   ]
  },
  {
   "cell_type": "code",
   "execution_count": 5,
   "metadata": {},
   "outputs": [
    {
     "name": "stdout",
     "output_type": "stream",
     "text": [
      "59127 14782 59127 14782\n"
     ]
    }
   ],
   "source": [
    "# Split X and y into train and test sets\n",
    "X_train, X_test, y_train, y_test = train_test_split(X, y, \n",
    "                                                    test_size=0.2, \n",
    "                                                    random_state=1234,\n",
    "                                                    stratify=df[\"loan_status\"])\n",
    "\n",
    "# Print number of observations in X_train, X_test, y_train, and y_test\n",
    "print( len(X_train), len(X_test), len(y_train), len(y_test) )\n"
   ]
  },
  {
   "cell_type": "code",
   "execution_count": 6,
   "metadata": {},
   "outputs": [
    {
     "data": {
      "text/plain": [
       "0.28338999103624402"
      ]
     },
     "execution_count": 6,
     "metadata": {},
     "output_type": "execute_result"
    }
   ],
   "source": [
    "y_train.mean()"
   ]
  },
  {
   "cell_type": "markdown",
   "metadata": {},
   "source": [
    "In this sample c. 28% of the loans are either charged-off or over 31 days late"
   ]
  },
  {
   "cell_type": "markdown",
   "metadata": {},
   "source": [
    "We will use 4 classification algorithms, create pipelines for each and set algorithm hyperparameters.\n",
    "Note that we standardize the feature values but subtracting means and dividing by standard deviation across the feature set. We will also create 2 naive Bayes classifier piupelines for comparison. Note that the Bayes pipelines require positive values and a Box Cox Transformer is used instead."
   ]
  },
  {
   "cell_type": "code",
   "execution_count": 7,
   "metadata": {},
   "outputs": [],
   "source": [
    "pipelines = {\n",
    "    'l1' : make_pipeline(StandardScaler(), LogisticRegression(penalty='l1' , random_state=123)),\n",
    "    'l2' : make_pipeline(StandardScaler(), LogisticRegression(penalty='l2' , random_state=123)),\n",
    "    'rf' : make_pipeline(StandardScaler(), RandomForestClassifier(random_state=123)),\n",
    "    'gb' : make_pipeline(StandardScaler(), GradientBoostingClassifier(random_state=123)),\n",
    "    'gnb' : make_pipeline(MinMaxScaler(feature_range=(1,2)), BoxCoxTransformer(), GaussianNB()),\n",
    "    'bnb' : make_pipeline(MinMaxScaler(feature_range=(1,2)), BoxCoxTransformer(),BernoulliNB())\n",
    "}\n"
   ]
  },
  {
   "cell_type": "code",
   "execution_count": 8,
   "metadata": {},
   "outputs": [
    {
     "data": {
      "text/plain": [
       "array([1.00000e-03, 1.11112e+02, 2.22223e+02, 3.33334e+02, 4.44445e+02,\n",
       "       5.55556e+02, 6.66667e+02, 7.77778e+02, 8.88889e+02, 1.00000e+03])"
      ]
     },
     "execution_count": 8,
     "metadata": {},
     "output_type": "execute_result"
    }
   ],
   "source": [
    "np.linspace(1e-3, 1e3, 10)"
   ]
  },
  {
   "cell_type": "markdown",
   "metadata": {},
   "source": [
    "we will test a range of penalties from 0.001 to 1000 for the l1 and l2 algorithms. We also use popular values for RF and GB hyperparameter arguments."
   ]
  },
  {
   "cell_type": "code",
   "execution_count": 8,
   "metadata": {},
   "outputs": [],
   "source": [
    "# Logistic Regression hyperparameters\n",
    "l1_hyperparameters = {'logisticregression__C' : np.linspace(1e-3, 1e3, 10),}\n",
    "l2_hyperparameters = {'logisticregression__C' : np.linspace(1e-3, 1e3, 10),}\n",
    "\n",
    "# Random Forest hyperparameters\n",
    "rf_hyperparameters = {\n",
    "    'randomforestclassifier__n_estimators': [20, 40],\n",
    "    'randomforestclassifier__max_features': ['auto', 'sqrt', 0.5],\n",
    "    'randomforestclassifier__min_samples_leaf': [1,3]\n",
    "}\n",
    "#Gradient Boosting hyperparameters\n",
    "gb_hyperparameters = {\n",
    "    'gradientboostingclassifier__n_estimators': [20, 40],\n",
    "    'gradientboostingclassifier__learning_rate': [0.05, 0.1, 0.2, 0.3],\n",
    "    'gradientboostingclassifier__max_depth': [1, 3, 5]\n",
    "}"
   ]
  },
  {
   "cell_type": "code",
   "execution_count": 9,
   "metadata": {},
   "outputs": [],
   "source": [
    "gnb_hyperparameters = {}\n",
    "bnb_hyperparameters = {}"
   ]
  },
  {
   "cell_type": "code",
   "execution_count": 10,
   "metadata": {},
   "outputs": [],
   "source": [
    "\n",
    "hyperparameters = {\n",
    "    'l1' : l1_hyperparameters,\n",
    "    'l2' : l2_hyperparameters,\n",
    "    'rf' : rf_hyperparameters,\n",
    "    'gb' : gb_hyperparameters,\n",
    "    'gnb': gnb_hyperparameters,\n",
    "    'bnb': bnb_hyperparameters\n",
    "}\n"
   ]
  },
  {
   "cell_type": "markdown",
   "metadata": {},
   "source": [
    "Use cross validation to tune each model. Here we use 10 fold cross-validation - i.e., we iteratively create 9 folds plus 1 hold-out fold and will average the training score over the 10 hold-out folds. "
   ]
  },
  {
   "cell_type": "code",
   "execution_count": 11,
   "metadata": {},
   "outputs": [
    {
     "name": "stdout",
     "output_type": "stream",
     "text": [
      "l1 has been fitted.\n",
      "rf has been fitted.\n",
      "gb has been fitted.\n"
     ]
    }
   ],
   "source": [
    "fitted_models = {}\n",
    "#algs_to_test = ['l1', 'l2', 'rf', 'gb','gnb', 'bnb']\n",
    "algs_to_test = ['l1','rf', 'gb']\n",
    "\n",
    "# Loop through model pipelines, tuning each one and saving it to fitted_models\n",
    "for name, pipeline in pipelines.items():\n",
    "    # Create cross-validation object from pipeline and hyperparameters\n",
    "    model = GridSearchCV(pipeline, hyperparameters[name], cv=10, n_jobs=-1)\n",
    "    \n",
    "    # Fit model on X_train, y_train\n",
    "    if name in algs_to_test:\n",
    "        model.fit(X_train, y_train)\n",
    "        fitted_models[name] = model\n",
    "        print(name, 'has been fitted.')"
   ]
  },
  {
   "cell_type": "markdown",
   "metadata": {},
   "source": [
    "Let's look at the holdout accuracy scores. This is the percent of observations correctly classified by the models. Note that our data is heavily imbalanced with over 70% target values equal to loan paid.\n",
    "Holdout accuracy scores are not robust to imbalanced data sets."
   ]
  },
  {
   "cell_type": "code",
   "execution_count": 12,
   "metadata": {},
   "outputs": [
    {
     "name": "stdout",
     "output_type": "stream",
     "text": [
      "l1 0.736431748609\n",
      "rf 0.734588259171\n",
      "gb 0.738630405737\n"
     ]
    }
   ],
   "source": [
    "for name, model in fitted_models.items():\n",
    "    print( name, model.best_score_ )"
   ]
  },
  {
   "cell_type": "markdown",
   "metadata": {},
   "source": [
    "Note that each of these models can be used to give us a predicted probability for default or fully paid for every entry in the test data set. To evaluate in more detail the performance of the algorithms we compare the predicted probabilities."
   ]
  },
  {
   "cell_type": "code",
   "execution_count": 13,
   "metadata": {},
   "outputs": [],
   "source": [
    "# Generate the predicted probabilities from our fitted models on the test data\n",
    "pred_dict = {}\n",
    "\n",
    "if 'l1' in algs_to_test:\n",
    "    pred_l1 = fitted_models['l1'].predict(X_test)\n",
    "    prob_l1 = fitted_models['l1'].predict_proba(X_test)\n",
    "    pred_dict['pred_l1'] = pred_l1\n",
    "    pred_dict['prob_l1'] = prob_l1\n",
    "    \n",
    "if 'l2' in algs_to_test:\n",
    "    pred_l2 = fitted_models['l2'].predict(X_test)\n",
    "    prob_l2 = fitted_models['l2'].predict_proba(X_test)\n",
    "    pred_dict['pred_l2'] = pred_l2\n",
    "    pred_dict['prob_l2'] = prob_l2\n",
    "    \n",
    "if 'rf' in algs_to_test:\n",
    "    pred_rf = fitted_models['rf'].predict(X_test)\n",
    "    prob_rf = fitted_models['rf'].predict_proba(X_test)\n",
    "    pred_dict['pred_rf'] = pred_rf\n",
    "    pred_dict['prob_rf'] = prob_rf\n",
    "    \n",
    "if 'gb' in algs_to_test:\n",
    "    pred_gb = fitted_models['gb'].predict(X_test)\n",
    "    prob_gb = fitted_models['gb'].predict_proba(X_test)\n",
    "    pred_dict['pred_gb'] = pred_gb\n",
    "    pred_dict['prob_gb'] = prob_gb\n",
    "    \n",
    "if 'gnb' in algs_to_test:\n",
    "    pred_gnb = fitted_models['gnb'].predict(X_test)\n",
    "    prob_gnb = fitted_models['gnb'].predict_proba(X_test)\n",
    "    pred_dict['pred_gnb'] =pred_gnb\n",
    "    pred_dict['prob_gnb'] = prob_gnb\n",
    "    \n",
    "if 'bnb' in algs_to_test:\n",
    "    pred_bnb = fitted_models['bnb'].predict(X_test)\n",
    "    prob_gnb = fitted_models['gnb'].predict_proba(X_test)\n",
    "    pred_dict['pred_bnb'] = pred_bnb\n",
    "    pred_dict['prob_bnb'] = prob_bnb\n"
   ]
  },
  {
   "cell_type": "markdown",
   "metadata": {},
   "source": [
    "GB has the highest fit against the trraining data so lets look at its performance in some more detail."
   ]
  },
  {
   "cell_type": "code",
   "execution_count": 14,
   "metadata": {},
   "outputs": [
    {
     "data": {
      "image/png": "[encoded data removed]",
      "text/plain": [
       "<matplotlib.figure.Figure at 0x7f18d47592e8>"
      ]
     },
     "metadata": {},
     "output_type": "display_data"
    }
   ],
   "source": [
    "cm = confusion_matrix(y_test, pred_dict['pred_gb'])\n",
    "plt.clf()\n",
    "plt.imshow(cm, interpolation='nearest', cmap=plt.cm.Pastel2)\n",
    "classNames = ['Fully Paid','Charged Off/Default']\n",
    "plt.title('Fully paid versus Charged Off Confusion Matrix')\n",
    "plt.ylabel('True label')\n",
    "plt.xlabel('Predicted label')\n",
    "tick_marks = np.arange(len(classNames))\n",
    "plt.xticks(tick_marks, classNames, rotation=45)\n",
    "plt.yticks(tick_marks, classNames)\n",
    "s = [['TN','FP'], ['FN', 'TP']]\n",
    "for i in range(2):\n",
    "    for j in range(2):\n",
    "        plt.text(j,i, str(s[i][j])+\" = \"+str(cm[i][j]))\n",
    "plt.show()"
   ]
  },
  {
   "cell_type": "code",
   "execution_count": 15,
   "metadata": {},
   "outputs": [
    {
     "name": "stdout",
     "output_type": "stream",
     "text": [
      "True Negatives:  9750 Correctly predicted \"Fully Paid\" Loans\n",
      "False Positives:  843 Incorrectly predicted as \"Default\"\n",
      "False Negatives:  3145 Incorrectly predicted as \"Fully Paid\"\n",
      "True Positives:  1044 Correctly predicted as \"Default\"\n"
     ]
    }
   ],
   "source": [
    "TN = cm[0,0]\n",
    "FP = cm[0,1]\n",
    "FN = cm[1,0]\n",
    "TP = cm[1,1]\n",
    "\n",
    "print(\"True Negatives: \", TN, \"Correctly predicted \\\"Fully Paid\\\" Loans\")\n",
    "print(\"False Positives: \", FP, \"Incorrectly predicted as \\\"Default\\\"\" )\n",
    "print(\"False Negatives: \", FN, \"Incorrectly predicted as \\\"Fully Paid\\\"\")\n",
    "print(\"True Positives: \", TP, \"Correctly predicted as \\\"Default\\\"\")"
   ]
  },
  {
   "cell_type": "code",
   "execution_count": 60,
   "metadata": {},
   "outputs": [
    {
     "name": "stdout",
     "output_type": "stream",
     "text": [
      "             precision    recall  f1-score   support\n",
      "\n",
      "          0       0.79      0.98      0.88      3116\n",
      "          1       0.60      0.09      0.16       884\n",
      "\n",
      "avg / total       0.75      0.79      0.72      4000\n",
      "\n"
     ]
    }
   ],
   "source": [
    "print(classification_report(y_test, pred_dict['pred_gb']))\n"
   ]
  },
  {
   "cell_type": "markdown",
   "metadata": {},
   "source": [
    "The sklearn documentation defines these valuesas follows:\n",
    "The precision is the ratio tp / (tp + fp) where tp is the number of true positives and fp the number of false positives. The precision is intuitively the ability of the classifier not to label as positive a sample that is negative.\n",
    "\n",
    "The recall is the ratio tp / (tp + fn) where tp is the number of true positives and fn the number of false negatives. The recall is intuitively the ability of the classifier to find all the positive samples.\n",
    "\n",
    "The F1 score can be interpreted as a weighted harmonic mean of the precision and recall, where an F1 score reaches its best value at 1 and worst score at 0.\n",
    "\n",
    "The support is the number of occurrences of each class in y_pred."
   ]
  },
  {
   "cell_type": "markdown",
   "metadata": {},
   "source": [
    "The precision and recall scores are poor for the charged-off loans.The last metric we will examine here is the ROC curve = Reciever Operating Characteristic plot. It is a way to visualize the relationship between TPR and FPR for classification models. It plots the true positive rate and false positive rate at different classification probability thresholds.\n",
    "\n",
    "As well as returning binary classifications of 0,1, for loan paid or charged-off respectively, we can also look at the probability or confidence in each loan classiciation prediction."
   ]
  },
  {
   "cell_type": "code",
   "execution_count": 41,
   "metadata": {},
   "outputs": [
    {
     "data": {
      "text/plain": [
       "array([[0.76973485, 0.23026515],\n",
       "       [0.71761905, 0.28238095],\n",
       "       [0.81261905, 0.18738095],\n",
       "       ...,\n",
       "       [0.77361111, 0.22638889],\n",
       "       [0.77333333, 0.22666667],\n",
       "       [0.93333333, 0.06666667]])"
      ]
     },
     "execution_count": 41,
     "metadata": {},
     "output_type": "execute_result"
    }
   ],
   "source": [
    "pred_dict['prob_gb']"
   ]
  },
  {
   "cell_type": "code",
   "execution_count": 16,
   "metadata": {},
   "outputs": [
    {
     "data": {
      "image/png": "[encoded data removed]",
      "text/plain": [
       "<matplotlib.figure.Figure at 0x7f18cc119550>"
      ]
     },
     "metadata": {},
     "output_type": "display_data"
    }
   ],
   "source": [
    "# Initialize plot\n",
    "fig = plt.figure(figsize=(8,8))\n",
    "plt.title('Receiver Operating Characteristic for GB and RF')\n",
    "\n",
    "# ---- L1 ---- #\n",
    "\n",
    "# Calculate ROC curve from y_test and the predicted probabilities for charged-off loans using the L1 algorithm.\n",
    "#The list comprehension below here returns the probabilities associated with charged-off predictions.\n",
    "fpr, tpr, thresholds = roc_curve(y_test, [p[1] for p in pred_dict['prob_l1']])\n",
    "\n",
    "# Calculates AUROC\n",
    "auroc = round(auc(fpr, tpr), 3)\n",
    "    \n",
    "# Plots ROC curve and labels with AUROC\n",
    "plt.plot(fpr, tpr, label='{} AUROC = {}'.format('L1', auroc))\n",
    "\n",
    "\n",
    "# ---- Gradient Boosting ---- #\n",
    "\n",
    "# Calculate ROC curve from y_test and the predicted probabilities for charged-off loans using the gb algorithm.\n",
    "#The list comprehension below here returns the probabilities associated with charged-off predictions.\n",
    "fpr, tpr, thresholds = roc_curve(y_test, [p[1] for p in pred_dict['prob_gb']])\n",
    "\n",
    "# Calculates AUROC\n",
    "auroc = round(auc(fpr, tpr), 3)\n",
    "    \n",
    "# Plots ROC curve and labels with AUROC\n",
    "plt.plot(fpr, tpr, label='{} AUROC = {}'.format('GB', auroc))\n",
    "\n",
    "\n",
    "# ---- Random Forest ---- #\n",
    "\n",
    "fpr, tpr, thresholds = roc_curve(y_test, [p[1] for p in pred_dict['prob_rf']])\n",
    "\n",
    "    \n",
    "# Calculates AUROC\n",
    "auroc = round(auc(fpr, tpr), 3)\n",
    "    \n",
    "# Plots ROC curve and labels with AUROC\n",
    "plt.plot(fpr, tpr, label='{} AUROC = {}'.format('RF', auroc))\n",
    "\n",
    "\n",
    "# ---- Legend and labels ---- #\n",
    "\n",
    "# Plot legend\n",
    "plt.legend(loc='lower right')\n",
    "\n",
    "# Plots 45 degree dotted black line\n",
    "plt.plot([0,1],[0,1],'k--', label='random guess')\n",
    "\n",
    "# Axes limits and labels\n",
    "plt.xlim([-0.1,1.1])\n",
    "plt.ylim([-0.1,1.1])\n",
    "plt.ylabel('True Positive Rate')\n",
    "plt.xlabel('False Positive Rate')\n",
    "plt.show()\n"
   ]
  },
  {
   "cell_type": "markdown",
   "metadata": {},
   "source": [
    "The AUROC metric is robust against imbalanced classes and tells us the the likelihood that our model can distinguish between a randomly chosen loan that will default versus a randomly chosen loan that will not default."
   ]
  },
  {
   "cell_type": "markdown",
   "metadata": {},
   "source": [
    "Confusion Matrix Revisited.\n",
    "This model would be used to predict the likelihood of loan default.\n",
    "Assuming investor are risk-adverse and would prefer to refuse potentially good loans rather than suffer defaults then we can alter the classification threshold to reduce the number of False Negatves, i.e., those loans that we incorrectly predict to be fully paid.\n",
    "The code below shows that lowering the clasification threshold to 0.3 reduces the number of false psitives by c. 50% "
   ]
  },
  {
   "cell_type": "code",
   "execution_count": 19,
   "metadata": {},
   "outputs": [
    {
     "data": {
      "image/png": "[encoded data removed]",
      "text/plain": [
       "<matplotlib.figure.Figure at 0x7f18d47104e0>"
      ]
     },
     "metadata": {},
     "output_type": "display_data"
    }
   ],
   "source": [
    "# get prediction probabilities associated with the GB model\n",
    "pred_probs = [p[1] for p in pred_dict['prob_gb']]\n",
    "threshold = 0.3\n",
    "              \n",
    "#adjusts class predictions based on the prediction threshold (t).\n",
    "adjusted_preds = [1 if p >= threshold else 0 for p in pred_probs]\n",
    "\n",
    "cm = confusion_matrix(y_test, adjusted_preds)\n",
    "plt.clf()\n",
    "plt.imshow(cm, interpolation='nearest', cmap=plt.cm.Pastel2)\n",
    "classNames = ['Fully Paid','Charged Off/Default']\n",
    "plt.title('Fully paid versus Charged Off Confusion Matrix with adjusted threshold of 30%')\n",
    "plt.ylabel('True label')\n",
    "plt.xlabel('Predicted label')\n",
    "tick_marks = np.arange(len(classNames))\n",
    "plt.xticks(tick_marks, classNames, rotation=45)\n",
    "plt.yticks(tick_marks, classNames)\n",
    "s = [['TN','FP'], ['FN', 'TP']]\n",
    "for i in range(2):\n",
    "    for j in range(2):\n",
    "        plt.text(j,i, str(s[i][j])+\" = \"+str(cm[i][j]))\n",
    "plt.show()"
   ]
  },
  {
   "cell_type": "code",
   "execution_count": 20,
   "metadata": {},
   "outputs": [
    {
     "name": "stdout",
     "output_type": "stream",
     "text": [
      "Using adjusted classifiation probability threshold:  0.3\n",
      "True Negatives:  7277 Correctly predicted \"Fully Paid\" Loans\n",
      "False Positives:  3316 Incorrectly predicted as \"Default\"\n",
      "False Negatives:  1511 Incorrectly predicted as \"Fully Paid\"\n",
      "True Positives:  2678 Correctly predicted as \"Default\"\n"
     ]
    }
   ],
   "source": [
    "TN = cm[0,0]\n",
    "FP = cm[0,1]\n",
    "FN = cm[1,0]\n",
    "TP = cm[1,1]\n",
    "print(\"Using adjusted classifiation probability threshold: \", threshold)\n",
    "print(\"True Negatives: \", TN, \"Correctly predicted \\\"Fully Paid\\\" Loans\")\n",
    "print(\"False Positives: \", FP, \"Incorrectly predicted as \\\"Default\\\"\" )\n",
    "print(\"False Negatives: \", FN, \"Incorrectly predicted as \\\"Fully Paid\\\"\")\n",
    "print(\"True Positives: \", TP, \"Correctly predicted as \\\"Default\\\"\")"
   ]
  },
  {
   "cell_type": "code",
   "execution_count": 18,
   "metadata": {},
   "outputs": [],
   "source": [
    "# Save winning model as final_model.pkl\n",
    "with open('final_model.pkl', 'wb') as f:\n",
    "    pickle.dump(fitted_models['gb'].best_estimator_, f)"
   ]
  },
  {
   "cell_type": "code",
   "execution_count": null,
   "metadata": {},
   "outputs": [],
   "source": []
  }
 ],
 "metadata": {
  "kernelspec": {
   "display_name": "Python 3",
   "language": "python",
   "name": "python3"
  },
  "language_info": {
   "codemirror_mode": {
    "name": "ipython",
    "version": 3
   },
   "file_extension": ".py",
   "mimetype": "text/x-python",
   "name": "python",
   "nbconvert_exporter": "python",
   "pygments_lexer": "ipython3",
   "version": "3.6.4"
  }
 },
 "nbformat": 4,
 "nbformat_minor": 2
}
